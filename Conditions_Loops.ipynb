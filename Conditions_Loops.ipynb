{
 "cells": [
  {
   "cell_type": "markdown",
   "id": "f942eaa2",
   "metadata": {},
   "source": [
    "# Conditional statements"
   ]
  },
  {
   "cell_type": "code",
   "execution_count": 27,
   "id": "80757e6e",
   "metadata": {},
   "outputs": [
    {
     "name": "stdout",
     "output_type": "stream",
     "text": [
      "a+b =  50\n"
     ]
    }
   ],
   "source": [
    "#if else condition\n",
    "#relational operators <, >, ==, !=, <=, >=\n",
    "import numpy as np\n",
    "a = 25\n",
    "b = 25\n",
    "if a>b:\n",
    "    print('b = ', b) #indentation is important\n",
    "elif a==b:\n",
    "    print('a+b = ', a+b)\n",
    "else:\n",
    "    print('a =', a)\n",
    "    "
   ]
  },
  {
   "cell_type": "code",
   "execution_count": 28,
   "id": "95fed533",
   "metadata": {},
   "outputs": [
    {
     "name": "stdout",
     "output_type": "stream",
     "text": [
      "a = 0.49783776271585967\n"
     ]
    }
   ],
   "source": [
    "# picking values from a uniform distribution\n",
    "a = np.random.rand()\n",
    "b = np.random.rand()\n",
    "if a>b:\n",
    "    print('b = ', b) #indentation is important\n",
    "else:\n",
    "    print('a =', a)"
   ]
  },
  {
   "cell_type": "code",
   "execution_count": 90,
   "id": "aff72c6c",
   "metadata": {},
   "outputs": [
    {
     "name": "stdout",
     "output_type": "stream",
     "text": [
      "a = 0.9536421415840806\n"
     ]
    }
   ],
   "source": [
    "# picking values from a uniform distribution\n",
    "a = np.random.rand()\n",
    "b = np.random.rand()\n",
    "c = 0.5\n",
    "if a>b and a<c:\n",
    "    print('b = ', b) #indentation is important\n",
    "elif not a>c:\n",
    "    print('c = ', c)\n",
    "else:\n",
    "    print('a =', a)"
   ]
  },
  {
   "cell_type": "markdown",
   "id": "115dbf75",
   "metadata": {},
   "source": [
    "# Loops: For loop"
   ]
  },
  {
   "cell_type": "code",
   "execution_count": 98,
   "id": "79399991",
   "metadata": {
    "scrolled": false
   },
   "outputs": [
    {
     "name": "stdout",
     "output_type": "stream",
     "text": [
      "10\n",
      "4\n",
      "Hello 0\n",
      "Hello 1\n",
      "Hello 2\n",
      "Hello 3\n",
      "Hello 4\n",
      "Hello 5\n",
      "Hello 6\n",
      "Hello 7\n",
      "Hello 8\n",
      "Hello 9\n"
     ]
    }
   ],
   "source": [
    "#loops: for loop\n",
    "r = range(10)\n",
    "print(len(r))\n",
    "print(r[4])\n",
    "\n",
    "for i in r:\n",
    "    print('Hello', i)"
   ]
  },
  {
   "cell_type": "code",
   "execution_count": 101,
   "id": "51700013",
   "metadata": {},
   "outputs": [
    {
     "name": "stdout",
     "output_type": "stream",
     "text": [
      "apple\n",
      "mango\n",
      "bank\n"
     ]
    }
   ],
   "source": [
    "#for loop in list\n",
    "thelist1 = ['apple','mango', 'bank'] \n",
    "\n",
    "for i in thelist1:\n",
    "    print(i)"
   ]
  },
  {
   "cell_type": "code",
   "execution_count": 103,
   "id": "30d167cb",
   "metadata": {},
   "outputs": [
    {
     "name": "stdout",
     "output_type": "stream",
     "text": [
      "0 th entry is apple\n",
      "1 th entry is mango\n",
      "2 th entry is bank\n"
     ]
    }
   ],
   "source": [
    "# to access index and value in a list use \"enumerate\"\n",
    "\n",
    "for ind, val in enumerate(thelist1):\n",
    "    print(ind,'th entry is', val)"
   ]
  },
  {
   "cell_type": "code",
   "execution_count": 107,
   "id": "6023c963",
   "metadata": {},
   "outputs": [
    {
     "name": "stdout",
     "output_type": "stream",
     "text": [
      "apple\n",
      "mango\n",
      "bank\n",
      "apple\n",
      "0 th entry is apple\n",
      "1 th entry is mango\n",
      "2 th entry is bank\n",
      "3 th entry is apple\n"
     ]
    }
   ],
   "source": [
    "# for loop in tuple\n",
    "thetup1 = ('apple','mango', 'bank','apple')\n",
    "for i in thetup1:\n",
    "    print(i)\n",
    "    \n",
    "for ind, val in enumerate(thetup1):\n",
    "    print(ind,'th entry is', val)"
   ]
  },
  {
   "cell_type": "code",
   "execution_count": 113,
   "id": "c112fe66",
   "metadata": {},
   "outputs": [
    {
     "name": "stdout",
     "output_type": "stream",
     "text": [
      "bank\n",
      "apple\n",
      "mango\n",
      "0 th entry is bank\n",
      "1 th entry is apple\n",
      "2 th entry is mango\n"
     ]
    }
   ],
   "source": [
    "#for loop in set\n",
    "set1 = {'apple','mango', 'bank','apple'}\n",
    "\n",
    "for i in set1:\n",
    "    print(i) #notice sequence changes\n",
    "    \n",
    "    \n",
    "for ind, val in enumerate(set1):\n",
    "    print(ind,'th entry is', val) #notice only three entries are shown"
   ]
  },
  {
   "cell_type": "code",
   "execution_count": 115,
   "id": "b4f34616",
   "metadata": {},
   "outputs": [
    {
     "name": "stdout",
     "output_type": "stream",
     "text": [
      "1\n",
      "3\n",
      "5\n",
      "7\n"
     ]
    }
   ],
   "source": [
    "for ind in range(1,8,2):\n",
    "    print(ind)"
   ]
  },
  {
   "cell_type": "markdown",
   "id": "23e6eef0",
   "metadata": {},
   "source": [
    "# print index and value "
   ]
  },
  {
   "cell_type": "code",
   "execution_count": 121,
   "id": "835b096b",
   "metadata": {},
   "outputs": [
    {
     "name": "stdout",
     "output_type": "stream",
     "text": [
      "Using range and len\n",
      "0 1\n",
      "1 23\n",
      "2 43\n",
      "3 2\n",
      "4 54\n",
      " \n",
      "Using enumerate\n",
      "0 1\n",
      "1 23\n",
      "2 43\n",
      "3 2\n",
      "4 54\n"
     ]
    }
   ],
   "source": [
    "# printing index and value in the list\n",
    "dlist = [1, 23, 43, 2, 54]\n",
    "print('Using range and len')\n",
    "for ind in range(len(dlist)):\n",
    "    print(ind, dlist[ind])\n",
    "\n",
    "print(' ')\n",
    "print('Using enumerate')   \n",
    "for ind,val in enumerate(dlist):\n",
    "    print(ind, val)"
   ]
  },
  {
   "cell_type": "markdown",
   "id": "757663e5",
   "metadata": {},
   "source": [
    "# Loops for dictionaries "
   ]
  },
  {
   "cell_type": "code",
   "execution_count": 131,
   "id": "46689948",
   "metadata": {},
   "outputs": [
    {
     "name": "stdout",
     "output_type": "stream",
     "text": [
      "Method 1\n",
      "name\n",
      "grade\n",
      " \n",
      "Method 2: key\n",
      "name\n",
      "grade\n",
      " \n",
      "Method 3: value\n",
      "Ahad\n",
      "A\n",
      " \n",
      "Method 4: keys and values\n",
      "name Ahad\n",
      "grade A\n",
      " \n",
      "Method 4: keys and values dict2\n",
      "name ['Ahad', 'Ajmal']\n",
      "grade ['A', 'B']\n"
     ]
    }
   ],
   "source": [
    "dict1 = {'name':'Ahad', 'grade':'A'}\n",
    "dict2 = {'name':['Ahad','Ajmal'] , 'grade':['A','B']}\n",
    "\n",
    "print('Method 1')\n",
    "for i in dict1:\n",
    "    print(i)\n",
    "    \n",
    "print(' ')\n",
    "print('Method 2: key')\n",
    "for key in dict1.keys():\n",
    "    print(key)\n",
    "         \n",
    "print(' ')\n",
    "print('Method 3: value')\n",
    "for val in dict1.values():\n",
    "    print(val)\n",
    "\n",
    "print(' ')\n",
    "print('Method 4: keys and values')\n",
    "for key, val in dict1.items():\n",
    "    print(key, val)\n",
    "    \n",
    "print(' ')\n",
    "print('Method 4: keys and values dict2')\n",
    "for key, val in dict2.items():\n",
    "    print(key, val)"
   ]
  },
  {
   "cell_type": "markdown",
   "id": "c306962e",
   "metadata": {},
   "source": [
    "# While loop"
   ]
  },
  {
   "cell_type": "code",
   "execution_count": 142,
   "id": "fb8c1ba9",
   "metadata": {},
   "outputs": [
    {
     "name": "stdout",
     "output_type": "stream",
     "text": [
      "1\n",
      "2\n",
      "3\n",
      "4\n",
      "5\n",
      "6\n",
      "7\n",
      "8\n",
      "9\n"
     ]
    }
   ],
   "source": [
    "i = 1\n",
    "while i<10:\n",
    "    print(i)\n",
    "    i+=1"
   ]
  },
  {
   "cell_type": "code",
   "execution_count": 148,
   "id": "86644b91",
   "metadata": {},
   "outputs": [
    {
     "name": "stdout",
     "output_type": "stream",
     "text": [
      "Enter the password: pp\n",
      "Wrong password\n",
      "Enter the password: pp\n",
      "Wrong password\n",
      "Enter the password: pp\n",
      "Wrong password\n",
      "Enter the password: pp\n",
      "locked\n"
     ]
    }
   ],
   "source": [
    "# password authentication\n",
    "pwd = ''\n",
    "i = 0\n",
    "while pwd != 'pass':\n",
    "    pwd = input('Enter the password: ')\n",
    "    if pwd == 'pass':\n",
    "        print('Access granted')\n",
    "    elif i == 3:\n",
    "        print('locked')\n",
    "        break\n",
    "    else:\n",
    "        print('Wrong password')\n",
    "    i = i+1\n",
    "    "
   ]
  },
  {
   "cell_type": "markdown",
   "id": "b08d77d8",
   "metadata": {},
   "source": [
    "# Functions "
   ]
  },
  {
   "cell_type": "code",
   "execution_count": 149,
   "id": "35b55902",
   "metadata": {},
   "outputs": [
    {
     "name": "stdout",
     "output_type": "stream",
     "text": [
      "hello 0 1\n",
      "hello 1 23\n",
      "hello 2 43\n",
      "hello 3 2\n",
      "hello 4 54\n"
     ]
    }
   ],
   "source": [
    "#def function_name(a,b): a and b are parameters, function calling: function_name(c,d), c and d are the arguments\n",
    "\n",
    "dlist = [1, 23, 43, 2, 54]\n",
    "\n",
    "def func1(i,j):\n",
    "    print('hello',i,j)\n",
    "    \n",
    "for ind,val in enumerate(dlist):\n",
    "    func1(ind,val)"
   ]
  },
  {
   "cell_type": "code",
   "execution_count": 138,
   "id": "363741cc",
   "metadata": {},
   "outputs": [
    {
     "name": "stdout",
     "output_type": "stream",
     "text": [
      "hello 0 1\n",
      "ind+val =  1\n",
      "hello 1 23\n",
      "ind+val =  24\n",
      "hello 2 43\n",
      "ind+val =  45\n",
      "hello 3 2\n",
      "ind+val =  5\n",
      "hello 4 54\n",
      "ind+val =  58\n"
     ]
    }
   ],
   "source": [
    "#function with return\n",
    "def func1(i,j):\n",
    "    print('hello',i,j)\n",
    "    return i+j\n",
    "    \n",
    "for ind,val in enumerate(dlist):\n",
    "    out = func1(ind,val)\n",
    "    print(\"ind+val = \", out)"
   ]
  },
  {
   "cell_type": "code",
   "execution_count": 150,
   "id": "35d0f4ab",
   "metadata": {},
   "outputs": [
    {
     "name": "stdout",
     "output_type": "stream",
     "text": [
      "Hello, Asad\n",
      "Hello, All\n"
     ]
    }
   ],
   "source": [
    "# function with default parameters\n",
    "\n",
    "def myfunc2(out='All'):\n",
    "    print('Hello,',out)\n",
    "    \n",
    "myfunc2('Asad')\n",
    "myfunc2()"
   ]
  },
  {
   "cell_type": "code",
   "execution_count": 154,
   "id": "087ad15d",
   "metadata": {},
   "outputs": [
    {
     "name": "stdout",
     "output_type": "stream",
     "text": [
      "7\n"
     ]
    }
   ],
   "source": [
    "#function to count words in a string\n",
    "def words_count(string):\n",
    "    words = string.split()\n",
    "    return len(words)\n",
    "\n",
    "#function call\n",
    "sen = 'function to count words in a string'\n",
    "w_cnt = words_count(sen)\n",
    "print(w_cnt)"
   ]
  },
  {
   "cell_type": "code",
   "execution_count": null,
   "id": "2e477c21",
   "metadata": {},
   "outputs": [],
   "source": []
  }
 ],
 "metadata": {
  "kernelspec": {
   "display_name": "Python 3 (ipykernel)",
   "language": "python",
   "name": "python3"
  },
  "language_info": {
   "codemirror_mode": {
    "name": "ipython",
    "version": 3
   },
   "file_extension": ".py",
   "mimetype": "text/x-python",
   "name": "python",
   "nbconvert_exporter": "python",
   "pygments_lexer": "ipython3",
   "version": "3.9.13"
  }
 },
 "nbformat": 4,
 "nbformat_minor": 5
}
