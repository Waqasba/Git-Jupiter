{
 "cells": [
  {
   "cell_type": "code",
   "execution_count": 3,
   "id": "de0ccf8b",
   "metadata": {},
   "outputs": [
    {
     "name": "stdout",
     "output_type": "stream",
     "text": [
      "15\n"
     ]
    }
   ],
   "source": [
    "a = 5\n",
    "b = 10\n",
    "c = a+b\n",
    "print(c)"
   ]
  },
  {
   "cell_type": "code",
   "execution_count": 5,
   "id": "e240d847",
   "metadata": {},
   "outputs": [
    {
     "name": "stdout",
     "output_type": "stream",
     "text": [
      "50\n",
      "25\n"
     ]
    }
   ],
   "source": [
    "# multiplication\n",
    "d = a*b\n",
    "print(d)\n",
    "dd = a**2\n",
    "print(dd)"
   ]
  },
  {
   "cell_type": "code",
   "execution_count": 7,
   "id": "b97cf773",
   "metadata": {},
   "outputs": [],
   "source": [
    "import numpy as np"
   ]
  },
  {
   "cell_type": "code",
   "execution_count": 9,
   "id": "d48699e4",
   "metadata": {},
   "outputs": [
    {
     "name": "stdout",
     "output_type": "stream",
     "text": [
      "1.7 ms ± 124 µs per loop (mean ± std. dev. of 7 runs, 100 loops each)\n"
     ]
    }
   ],
   "source": [
    "#check time\n",
    "def some_expensive_comutation():\n",
    "    return \"-\".join(str(n) for n in range(10000))\n",
    "\n",
    "%timeit some_expensive_comutation()"
   ]
  },
  {
   "cell_type": "code",
   "execution_count": 12,
   "id": "de46ccd5",
   "metadata": {},
   "outputs": [
    {
     "data": {
      "text/plain": [
       "True"
      ]
     },
     "execution_count": 12,
     "metadata": {},
     "output_type": "execute_result"
    }
   ],
   "source": [
    "True != False"
   ]
  },
  {
   "cell_type": "code",
   "execution_count": 15,
   "id": "b81c07e6",
   "metadata": {},
   "outputs": [
    {
     "data": {
      "text/plain": [
       "'Hello Work'"
      ]
     },
     "execution_count": 15,
     "metadata": {},
     "output_type": "execute_result"
    }
   ],
   "source": [
    "#strings\n",
    "\"Hello\"+\" \" +\"Work\""
   ]
  },
  {
   "cell_type": "code",
   "execution_count": 17,
   "id": "2357f754",
   "metadata": {},
   "outputs": [
    {
     "data": {
      "text/plain": [
       "'l'"
      ]
     },
     "execution_count": 17,
     "metadata": {},
     "output_type": "execute_result"
    }
   ],
   "source": [
    "\"Hello\"[3]"
   ]
  },
  {
   "cell_type": "code",
   "execution_count": 19,
   "id": "c59c4923",
   "metadata": {},
   "outputs": [
    {
     "data": {
      "text/plain": [
       "1"
      ]
     },
     "execution_count": 19,
     "metadata": {},
     "output_type": "execute_result"
    }
   ],
   "source": [
    "# List\n",
    "[1 ,2][0]"
   ]
  },
  {
   "cell_type": "code",
   "execution_count": 21,
   "id": "39929f55",
   "metadata": {},
   "outputs": [
    {
     "data": {
      "text/plain": [
       "1"
      ]
     },
     "execution_count": 21,
     "metadata": {},
     "output_type": "execute_result"
    }
   ],
   "source": [
    "a = [1,2]\n",
    "a[0]"
   ]
  },
  {
   "cell_type": "code",
   "execution_count": 24,
   "id": "cb398453",
   "metadata": {},
   "outputs": [
    {
     "name": "stdout",
     "output_type": "stream",
     "text": [
      "1\n",
      "2\n"
     ]
    }
   ],
   "source": [
    "#for loop\n",
    "for item in a:\n",
    "    print(item)"
   ]
  },
  {
   "cell_type": "code",
   "execution_count": 33,
   "id": "f4c7746b",
   "metadata": {},
   "outputs": [
    {
     "name": "stdout",
     "output_type": "stream",
     "text": [
      "[4, 'H']\n",
      "[6, 'e']\n",
      "[8, 'l']\n",
      "[10, 'l']\n",
      "[12, 'o']\n"
     ]
    }
   ],
   "source": [
    "i = 2\n",
    "for item in \"Hello\":\n",
    "    i+=2\n",
    "    v = [i,item]\n",
    "    print(v)"
   ]
  },
  {
   "cell_type": "code",
   "execution_count": 44,
   "id": "755b72d0",
   "metadata": {},
   "outputs": [
    {
     "name": "stdout",
     "output_type": "stream",
     "text": [
      "l[0] = a\n",
      "l[1] = 5\n",
      "l[2] = 6\n"
     ]
    }
   ],
   "source": [
    "# indexing in loop\n",
    "l = ['a', 5, 6]\n",
    "for index, item in enumerate(l): #enumerate return index and value\n",
    "    print(\"l[\" + str(index) + \"]\" + \" = \" + str(item))"
   ]
  },
  {
   "cell_type": "code",
   "execution_count": 48,
   "id": "3e803122",
   "metadata": {},
   "outputs": [
    {
     "name": "stdout",
     "output_type": "stream",
     "text": [
      "index = 0 value = 4\n",
      "index = 1 value = b\n",
      "index = 2 value = 6\n"
     ]
    }
   ],
   "source": [
    "# if only index is needed\n",
    "l = [4, 'b', 6]\n",
    "for index in range(len(l)):\n",
    "    print(\"index = \" + str(index) + \" \"+ \"value = \" + str(l[index]))"
   ]
  },
  {
   "cell_type": "code",
   "execution_count": 56,
   "id": "918910fa",
   "metadata": {},
   "outputs": [
    {
     "name": "stdout",
     "output_type": "stream",
     "text": [
      "1\n",
      "3\n",
      "5\n",
      "7\n",
      "9\n"
     ]
    }
   ],
   "source": [
    "# range\n",
    "r = range(1,10,2)\n",
    "for val in r:\n",
    "    print(val)"
   ]
  },
  {
   "cell_type": "code",
   "execution_count": 60,
   "id": "1247c69e",
   "metadata": {},
   "outputs": [
    {
     "name": "stdout",
     "output_type": "stream",
     "text": [
      "range(1, 5, 2)\n"
     ]
    }
   ],
   "source": [
    "r = range(1,10,2)\n",
    "print(r[0:2])"
   ]
  },
  {
   "cell_type": "code",
   "execution_count": 54,
   "id": "97f5b2ee",
   "metadata": {},
   "outputs": [
    {
     "name": "stdout",
     "output_type": "stream",
     "text": [
      "['a', 2, ['s']]\n"
     ]
    }
   ],
   "source": [
    "# list is homogeneous, can contain numbers and strings\n",
    "aa = [\"a\",2,[\"s\"]]\n",
    "print(aa)"
   ]
  },
  {
   "cell_type": "code",
   "execution_count": 55,
   "id": "cdfa7d7f",
   "metadata": {},
   "outputs": [
    {
     "data": {
      "text/plain": [
       "[2, 3, 4]"
      ]
     },
     "execution_count": 55,
     "metadata": {},
     "output_type": "execute_result"
    }
   ],
   "source": [
    "l = [1, 2, 3, 4, 5]\n",
    "start = 1\n",
    "stop = 4\n",
    "l[start:stop] # Start is included, but stop isn't"
   ]
  },
  {
   "cell_type": "code",
   "execution_count": 61,
   "id": "135b3403",
   "metadata": {},
   "outputs": [
    {
     "data": {
      "text/plain": [
       "[1, 2, 3, 4]"
      ]
     },
     "execution_count": 61,
     "metadata": {},
     "output_type": "execute_result"
    }
   ],
   "source": [
    "l[:stop]"
   ]
  },
  {
   "cell_type": "code",
   "execution_count": 62,
   "id": "51b5f270",
   "metadata": {},
   "outputs": [
    {
     "data": {
      "text/plain": [
       "[2, 3, 4, 5]"
      ]
     },
     "execution_count": 62,
     "metadata": {},
     "output_type": "execute_result"
    }
   ],
   "source": [
    "l[start:]"
   ]
  },
  {
   "cell_type": "code",
   "execution_count": 63,
   "id": "f331ef6d",
   "metadata": {},
   "outputs": [
    {
     "data": {
      "text/plain": [
       "[2, 4]"
      ]
     },
     "execution_count": 63,
     "metadata": {},
     "output_type": "execute_result"
    }
   ],
   "source": [
    "step = 2\n",
    "l[start:stop:step] # you can also specify a step size"
   ]
  },
  {
   "cell_type": "code",
   "execution_count": 64,
   "id": "3b8013d8",
   "metadata": {},
   "outputs": [
    {
     "data": {
      "text/plain": [
       "[5, 4, 3, 2, 1]"
      ]
     },
     "execution_count": 64,
     "metadata": {},
     "output_type": "execute_result"
    }
   ],
   "source": [
    "l[::-1] #reverse"
   ]
  },
  {
   "cell_type": "code",
   "execution_count": 65,
   "id": "f0fa34e8",
   "metadata": {},
   "outputs": [
    {
     "data": {
      "text/plain": [
       "5"
      ]
     },
     "execution_count": 65,
     "metadata": {},
     "output_type": "execute_result"
    }
   ],
   "source": [
    "l[-1] # last element in `l`"
   ]
  },
  {
   "cell_type": "code",
   "execution_count": 67,
   "id": "c4344e6e",
   "metadata": {},
   "outputs": [
    {
     "data": {
      "text/plain": [
       "[1, 2, 3, 8, 's']"
      ]
     },
     "execution_count": 67,
     "metadata": {},
     "output_type": "execute_result"
    }
   ],
   "source": [
    "[1,2] + [3,8] + [\"s\"]"
   ]
  },
  {
   "cell_type": "code",
   "execution_count": 68,
   "id": "5ea8e027",
   "metadata": {},
   "outputs": [],
   "source": [
    "#other data types\n",
    "{0, 1}         # sets: used for set theory, union, intersection, subset etc\n",
    "{\"key\": \"val\"} # dictionaries\n",
    "(1, 2, 3)      # tuples\n",
    "None # supress output"
   ]
  },
  {
   "cell_type": "code",
   "execution_count": 69,
   "id": "72172f7b",
   "metadata": {},
   "outputs": [
    {
     "data": {
      "text/plain": [
       "True"
      ]
     },
     "execution_count": 69,
     "metadata": {},
     "output_type": "execute_result"
    }
   ],
   "source": [
    "\"a\" in {\"a\",\"b\",\"c\"}"
   ]
  },
  {
   "cell_type": "code",
   "execution_count": 70,
   "id": "96be8e3f",
   "metadata": {},
   "outputs": [
    {
     "data": {
      "text/plain": [
       "True"
      ]
     },
     "execution_count": 70,
     "metadata": {},
     "output_type": "execute_result"
    }
   ],
   "source": [
    "\"a\" in [\"a\",\"b\",\"c\"]"
   ]
  },
  {
   "cell_type": "code",
   "execution_count": 75,
   "id": "e756fd9f",
   "metadata": {},
   "outputs": [
    {
     "data": {
      "text/plain": [
       "True"
      ]
     },
     "execution_count": 75,
     "metadata": {},
     "output_type": "execute_result"
    }
   ],
   "source": [
    "{\"a\"} < {\"a\",\"b\",\"c\"}"
   ]
  },
  {
   "cell_type": "code",
   "execution_count": 76,
   "id": "cdc9d930",
   "metadata": {},
   "outputs": [
    {
     "name": "stdout",
     "output_type": "stream",
     "text": [
      "[1, 2, 3, 5]\n"
     ]
    }
   ],
   "source": [
    "aq = [1,2,3]\n",
    "aq.append(5)\n",
    "print(aq)"
   ]
  },
  {
   "cell_type": "code",
   "execution_count": 79,
   "id": "e2837eea",
   "metadata": {},
   "outputs": [
    {
     "name": "stdout",
     "output_type": "stream",
     "text": [
      "{1, 2, 3, 5}\n"
     ]
    }
   ],
   "source": [
    "aw = {1,2,3}\n",
    "aw.add(5)\n",
    "print(aw)"
   ]
  },
  {
   "cell_type": "code",
   "execution_count": 88,
   "id": "32d61bb5",
   "metadata": {},
   "outputs": [
    {
     "name": "stdout",
     "output_type": "stream",
     "text": [
      "1\n",
      "b\n",
      "3\n",
      "z\n"
     ]
    }
   ],
   "source": [
    "for item in {1, 'z', 3, 'b'}:\n",
    "    print(item)\n",
    "# ordering isn't guaranteed\n",
    "# use OrderedSet (http://orderedset.readthedocs.io/en/latest/) if you need ordering"
   ]
  },
  {
   "cell_type": "code",
   "execution_count": 89,
   "id": "44ba7cfb",
   "metadata": {},
   "outputs": [
    {
     "name": "stdout",
     "output_type": "stream",
     "text": [
      "4 2\n"
     ]
    }
   ],
   "source": [
    "#swapping with 3 variables\n",
    "s1 = 2\n",
    "s2 = 4\n",
    "s3 = s1\n",
    "s1 = s2\n",
    "s2 = s3\n",
    "print(s1, s2)"
   ]
  },
  {
   "cell_type": "code",
   "execution_count": 90,
   "id": "e128e139",
   "metadata": {},
   "outputs": [
    {
     "name": "stdout",
     "output_type": "stream",
     "text": [
      "4 2\n"
     ]
    }
   ],
   "source": [
    "#swapping with 2 variables\n",
    "s1 = 2\n",
    "s2 = 4\n",
    "\n",
    "s1,s2 = s2,s1\n",
    "\n",
    "print(s1, s2)"
   ]
  },
  {
   "cell_type": "code",
   "execution_count": 92,
   "id": "6dc19c52",
   "metadata": {},
   "outputs": [
    {
     "name": "stdout",
     "output_type": "stream",
     "text": [
      "With this example, one common bug that can occur is when you forget to update value at the beginning of \n",
      "each iteration. This is similar to the previous bug of forgetting to update the index. \n",
      "This is one reason that this loop isn’t considered Pythonic. \n"
     ]
    }
   ],
   "source": [
    "# multiline string\n",
    "ms = \"\"\"With this example, one common bug that can occur is when you forget to update value at the beginning of \n",
    "each iteration. This is similar to the previous bug of forgetting to update the index. \n",
    "This is one reason that this loop isn’t considered Pythonic. \"\"\"\n",
    "print(ms)"
   ]
  },
  {
   "cell_type": "code",
   "execution_count": 101,
   "id": "7a0f96cf",
   "metadata": {},
   "outputs": [
    {
     "data": {
      "text/plain": [
       "11"
      ]
     },
     "execution_count": 101,
     "metadata": {},
     "output_type": "execute_result"
    }
   ],
   "source": [
    "#remove removes any leading, and trailing whitespaces\n",
    "s4 = \" hello world\"\n",
    "len(s4) # 12\n",
    "ws = s4.strip()\n",
    "len(ws)#11"
   ]
  },
  {
   "cell_type": "code",
   "execution_count": 103,
   "id": "0a9d6f2b",
   "metadata": {},
   "outputs": [
    {
     "name": "stdout",
     "output_type": "stream",
     "text": [
      "HELLO WORLD\n"
     ]
    }
   ],
   "source": [
    "#change case\n",
    "print(ws.upper())"
   ]
  },
  {
   "cell_type": "code",
   "execution_count": 104,
   "id": "4a04026f",
   "metadata": {},
   "outputs": [
    {
     "name": "stdout",
     "output_type": "stream",
     "text": [
      " yello world\n"
     ]
    }
   ],
   "source": [
    "#replace string\n",
    "s4 = \" hello world\"\n",
    "print(s4.replace('h','y'))"
   ]
  },
  {
   "cell_type": "code",
   "execution_count": 107,
   "id": "09367252",
   "metadata": {},
   "outputs": [
    {
     "name": "stdout",
     "output_type": "stream",
     "text": [
      "['leading,', 'and', 'trailing', 'whitespaces']\n",
      "['le', 'ding, ', 'nd tr', 'iling whitesp', 'ces']\n"
     ]
    }
   ],
   "source": [
    "#split string\n",
    "sp = \"leading, and trailing whitespaces\"\n",
    "print(sp.split(' '))\n",
    "print(sp.split('a'))"
   ]
  },
  {
   "cell_type": "code",
   "execution_count": 120,
   "id": "206e4dd6",
   "metadata": {},
   "outputs": [
    {
     "name": "stdout",
     "output_type": "stream",
     "text": [
      "['apple', 'mango', 'bank']\n",
      "['apple', 5, 'bank', True]\n",
      "apple\n",
      "length is =  4\n",
      "['1st', 5, 'bank', True, 20]\n"
     ]
    }
   ],
   "source": [
    "#list: each entry in the list is called an item. List can be of string, int and a mixture\n",
    "# list is ordered, changeable and duplicate\n",
    "thelist1 = ['apple','mango', 'bank'] \n",
    "print(thelist1)\n",
    "thelist2 = ['apple',5, 'bank', True] \n",
    "print(thelist2)\n",
    "print(thelist2[0])\n",
    "print(\"length is = \", len(thelist2))\n",
    "thelist2[0] = '1st' #changable\n",
    "thelist2.append(20) #changable\n",
    "print(thelist2)"
   ]
  },
  {
   "cell_type": "code",
   "execution_count": 121,
   "id": "c63559eb",
   "metadata": {},
   "outputs": [
    {
     "name": "stdout",
     "output_type": "stream",
     "text": [
      "['apple', 'mango', 'bank']\n",
      "('apple', 5, 'bank', True)\n",
      "apple\n",
      "length is =  4\n",
      "('apple', 5, 'bank', True)\n"
     ]
    }
   ],
   "source": [
    "#tuple is ordered, but \"unchangeable\" or \"immutable\"\n",
    "thetup1 = ('apple','mango', 'bank') \n",
    "print(thelist1)\n",
    "thetup2 = ('apple',5, 'bank', True)\n",
    "print(thetup2)\n",
    "print(thetup2[0])\n",
    "print(\"length is = \", len(thetup2))\n",
    "#thetup2[0] = '1st' #this command will give an error, as tuple is immutable\n",
    "\n",
    "print(thetup2)"
   ]
  },
  {
   "cell_type": "code",
   "execution_count": 122,
   "id": "7a5838fc",
   "metadata": {},
   "outputs": [
    {
     "name": "stdout",
     "output_type": "stream",
     "text": [
      "<class 'list'>\n",
      "<class 'tuple'>\n",
      "<class 'str'>\n",
      "<class 'tuple'>\n"
     ]
    }
   ],
   "source": [
    "#checking datatypes of the given data\n",
    "print(type(thelist1))\n",
    "print(type(thetup1))\n",
    "print(type((\"Hello\")))\n",
    "print(type((\"Hello\",)))"
   ]
  },
  {
   "cell_type": "code",
   "execution_count": 133,
   "id": "9409cf30",
   "metadata": {},
   "outputs": [
    {
     "name": "stdout",
     "output_type": "stream",
     "text": [
      "{'apple', 'bank', 'mango'}\n",
      "set2 =  {'apple', 'bank', 'mango'}\n",
      "length of set1 =  3\n",
      "length of set2 =  3\n",
      "<class 'set'>\n"
     ]
    }
   ],
   "source": [
    "#set is unordered, unchangeable. Set does not support duplication\n",
    "set1 = {'apple','mango', 'bank'}\n",
    "print(set1)\n",
    "set2 = {'apple','mango', 'bank', 'mango'}\n",
    "# print(set2[0]) # not possible as unordered\n",
    "print(\"set2 = \",set2)\n",
    "print(\"length of set1 = \",len(set1))\n",
    "print(\"length of set2 = \",len(set2))\n",
    "print(type(set1))"
   ]
  },
  {
   "cell_type": "code",
   "execution_count": 144,
   "id": "df59de8d",
   "metadata": {},
   "outputs": [
    {
     "name": "stdout",
     "output_type": "stream",
     "text": [
      "{'name': 'Ajmal', 'grade': 'B'}\n",
      "{'name': ['Ahad', 'Ajmal'], 'grade': ['A', 'B']}\n",
      "['A', 'B']\n",
      "['Ahad', 'Ajmal', 'Saif']\n"
     ]
    }
   ],
   "source": [
    "#dictionary is ordered, changeable, but does not allow duplication\n",
    "#are used to store data with tags -> key:value, \n",
    "dict1 = {'name':'Ahad', 'grade':'A', 'name':'Ajmal', 'grade':'B'}\n",
    "print(dict1)\n",
    "dict2 = {'name':['Ahad','Ajmal'] , 'grade':['A','B']}\n",
    "print(dict2)\n",
    "print(dict2['grade'])\n",
    "dict2['name'].append('Saif') #appending data\n",
    "print(dict2['name'])"
   ]
  },
  {
   "cell_type": "code",
   "execution_count": null,
   "id": "25aa9130",
   "metadata": {},
   "outputs": [],
   "source": []
  }
 ],
 "metadata": {
  "kernelspec": {
   "display_name": "Python 3 (ipykernel)",
   "language": "python",
   "name": "python3"
  },
  "language_info": {
   "codemirror_mode": {
    "name": "ipython",
    "version": 3
   },
   "file_extension": ".py",
   "mimetype": "text/x-python",
   "name": "python",
   "nbconvert_exporter": "python",
   "pygments_lexer": "ipython3",
   "version": "3.9.13"
  }
 },
 "nbformat": 4,
 "nbformat_minor": 5
}
