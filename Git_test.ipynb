{
 "cells": [
  {
   "cell_type": "code",
   "execution_count": 145,
   "id": "1a8dc7f4",
   "metadata": {},
   "outputs": [
    {
     "name": "stdout",
     "output_type": "stream",
     "text": [
      "15\n"
     ]
    }
   ],
   "source": [
    "a = 5\n",
    "b = 10\n",
    "c = a+b\n",
    "print(c)"
   ]
  },
  {
   "cell_type": "code",
   "execution_count": 146,
   "id": "0ee6279c",
   "metadata": {},
   "outputs": [
    {
     "name": "stdout",
     "output_type": "stream",
     "text": [
      "50\n",
      "25\n"
     ]
    }
   ],
   "source": [
    "# multiplication\n",
    "d = a*b\n",
    "print(d)\n",
    "dd = a**2\n",
    "print(dd)"
   ]
  },
  {
   "cell_type": "code",
   "execution_count": 147,
   "id": "6adf271b",
   "metadata": {},
   "outputs": [],
   "source": [
    "import numpy as np"
   ]
  },
  {
   "cell_type": "code",
   "execution_count": 148,
   "id": "d279ebd3",
   "metadata": {},
   "outputs": [
    {
     "name": "stdout",
     "output_type": "stream",
     "text": [
      "1.51 ms ± 41.4 µs per loop (mean ± std. dev. of 7 runs, 1000 loops each)\n"
     ]
    }
   ],
   "source": [
    "#check time\n",
    "def some_expensive_comutation():\n",
    "    return \"-\".join(str(n) for n in range(10000))\n",
    "\n",
    "%timeit some_expensive_comutation()"
   ]
  },
  {
   "cell_type": "code",
   "execution_count": 149,
   "id": "56ddda20",
   "metadata": {},
   "outputs": [
    {
     "data": {
      "text/plain": [
       "True"
      ]
     },
     "execution_count": 149,
     "metadata": {},
     "output_type": "execute_result"
    }
   ],
   "source": [
    "True != False"
   ]
  },
  {
   "cell_type": "code",
   "execution_count": 150,
   "id": "c42b2214",
   "metadata": {},
   "outputs": [
    {
     "data": {
      "text/plain": [
       "'Hello Work'"
      ]
     },
     "execution_count": 150,
     "metadata": {},
     "output_type": "execute_result"
    }
   ],
   "source": [
    "#strings\n",
    "\"Hello\"+\" \" +\"Work\""
   ]
  },
  {
   "cell_type": "code",
   "execution_count": 151,
   "id": "48682653",
   "metadata": {},
   "outputs": [
    {
     "data": {
      "text/plain": [
       "'l'"
      ]
     },
     "execution_count": 151,
     "metadata": {},
     "output_type": "execute_result"
    }
   ],
   "source": [
    "\"Hello\"[3]"
   ]
  },
  {
   "cell_type": "code",
   "execution_count": 152,
   "id": "1a2173ee",
   "metadata": {},
   "outputs": [
    {
     "data": {
      "text/plain": [
       "1"
      ]
     },
     "execution_count": 152,
     "metadata": {},
     "output_type": "execute_result"
    }
   ],
   "source": [
    "# List\n",
    "[1 ,2][0]"
   ]
  },
  {
   "cell_type": "code",
   "execution_count": 153,
   "id": "e1be03c1",
   "metadata": {},
   "outputs": [
    {
     "data": {
      "text/plain": [
       "1"
      ]
     },
     "execution_count": 153,
     "metadata": {},
     "output_type": "execute_result"
    }
   ],
   "source": [
    "a = [1,2]\n",
    "a[0]"
   ]
  },
  {
   "cell_type": "code",
   "execution_count": 154,
   "id": "a0677817",
   "metadata": {},
   "outputs": [
    {
     "name": "stdout",
     "output_type": "stream",
     "text": [
      "1\n",
      "2\n"
     ]
    }
   ],
   "source": [
    "#for loop\n",
    "for item in a:\n",
    "    print(item)"
   ]
  },
  {
   "cell_type": "code",
   "execution_count": 155,
   "id": "d5d28707",
   "metadata": {},
   "outputs": [
    {
     "name": "stdout",
     "output_type": "stream",
     "text": [
      "[4, 'H']\n",
      "[6, 'e']\n",
      "[8, 'l']\n",
      "[10, 'l']\n",
      "[12, 'o']\n"
     ]
    }
   ],
   "source": [
    "i = 2\n",
    "for item in \"Hello\":\n",
    "    i+=2\n",
    "    v = [i,item]\n",
    "    print(v)"
   ]
  },
  {
   "cell_type": "code",
   "execution_count": 156,
   "id": "0ff4f3eb",
   "metadata": {},
   "outputs": [
    {
     "name": "stdout",
     "output_type": "stream",
     "text": [
      "l[0] = a\n",
      "l[1] = 5\n",
      "l[2] = 6\n"
     ]
    }
   ],
   "source": [
    "# indexing in loop\n",
    "l = ['a', 5, 6]\n",
    "for index, item in enumerate(l): #enumerate return index and value\n",
    "    print(\"l[\" + str(index) + \"]\" + \" = \" + str(item))"
   ]
  },
  {
   "cell_type": "code",
   "execution_count": 157,
   "id": "23f3fca2",
   "metadata": {},
   "outputs": [
    {
     "name": "stdout",
     "output_type": "stream",
     "text": [
      "index = 0 value = 4\n",
      "index = 1 value = b\n",
      "index = 2 value = 6\n"
     ]
    }
   ],
   "source": [
    "# if only index is needed\n",
    "l = [4, 'b', 6]\n",
    "for index in range(len(l)):\n",
    "    print(\"index = \" + str(index) + \" \"+ \"value = \" + str(l[index]))"
   ]
  },
  {
   "cell_type": "code",
   "execution_count": 158,
   "id": "abd58442",
   "metadata": {},
   "outputs": [
    {
     "name": "stdout",
     "output_type": "stream",
     "text": [
      "1\n",
      "3\n",
      "5\n",
      "7\n",
      "9\n"
     ]
    }
   ],
   "source": [
    "# range\n",
    "r = range(1,10,2)\n",
    "for val in r:\n",
    "    print(val)"
   ]
  },
  {
   "cell_type": "code",
   "execution_count": 159,
   "id": "46e5fa19",
   "metadata": {},
   "outputs": [
    {
     "name": "stdout",
     "output_type": "stream",
     "text": [
      "range(1, 5, 2)\n"
     ]
    }
   ],
   "source": [
    "r = range(1,10,2)\n",
    "print(r[0:2])"
   ]
  },
  {
   "cell_type": "code",
   "execution_count": 160,
   "id": "e2425b4a",
   "metadata": {},
   "outputs": [
    {
     "name": "stdout",
     "output_type": "stream",
     "text": [
      "['a', 2, ['s']]\n"
     ]
    }
   ],
   "source": [
    "# list is homogeneous, can contain numbers and strings\n",
    "aa = [\"a\",2,[\"s\"]]\n",
    "print(aa)"
   ]
  },
  {
   "cell_type": "code",
   "execution_count": 161,
   "id": "218d778d",
   "metadata": {},
   "outputs": [
    {
     "data": {
      "text/plain": [
       "[2, 3, 4]"
      ]
     },
     "execution_count": 161,
     "metadata": {},
     "output_type": "execute_result"
    }
   ],
   "source": [
    "l = [1, 2, 3, 4, 5]\n",
    "start = 1\n",
    "stop = 4\n",
    "l[start:stop] # Start is included, but stop isn't"
   ]
  },
  {
   "cell_type": "code",
   "execution_count": 162,
   "id": "62da88d0",
   "metadata": {},
   "outputs": [
    {
     "data": {
      "text/plain": [
       "[1, 2, 3, 4]"
      ]
     },
     "execution_count": 162,
     "metadata": {},
     "output_type": "execute_result"
    }
   ],
   "source": [
    "l[:stop]"
   ]
  },
  {
   "cell_type": "code",
   "execution_count": 163,
   "id": "b49aa845",
   "metadata": {},
   "outputs": [
    {
     "data": {
      "text/plain": [
       "[2, 3, 4, 5]"
      ]
     },
     "execution_count": 163,
     "metadata": {},
     "output_type": "execute_result"
    }
   ],
   "source": [
    "l[start:]"
   ]
  },
  {
   "cell_type": "code",
   "execution_count": 164,
   "id": "facecdd3",
   "metadata": {},
   "outputs": [
    {
     "data": {
      "text/plain": [
       "[2, 4]"
      ]
     },
     "execution_count": 164,
     "metadata": {},
     "output_type": "execute_result"
    }
   ],
   "source": [
    "step = 2\n",
    "l[start:stop:step] # you can also specify a step size"
   ]
  },
  {
   "cell_type": "code",
   "execution_count": 165,
   "id": "34bc115d",
   "metadata": {},
   "outputs": [
    {
     "data": {
      "text/plain": [
       "[5, 4, 3, 2, 1]"
      ]
     },
     "execution_count": 165,
     "metadata": {},
     "output_type": "execute_result"
    }
   ],
   "source": [
    "l[::-1] #reverse"
   ]
  },
  {
   "cell_type": "code",
   "execution_count": 166,
   "id": "3bfc5183",
   "metadata": {},
   "outputs": [
    {
     "data": {
      "text/plain": [
       "5"
      ]
     },
     "execution_count": 166,
     "metadata": {},
     "output_type": "execute_result"
    }
   ],
   "source": [
    "l[-1] # last element in `l`"
   ]
  },
  {
   "cell_type": "code",
   "execution_count": 167,
   "id": "29e2ff2a",
   "metadata": {},
   "outputs": [
    {
     "data": {
      "text/plain": [
       "[1, 2, 3, 8, 's']"
      ]
     },
     "execution_count": 167,
     "metadata": {},
     "output_type": "execute_result"
    }
   ],
   "source": [
    "[1,2] + [3,8] + [\"s\"]"
   ]
  },
  {
   "cell_type": "code",
   "execution_count": 168,
   "id": "5c34ab4a",
   "metadata": {},
   "outputs": [],
   "source": [
    "#other data types\n",
    "{0, 1}         # sets: used for set theory, union, intersection, subset etc\n",
    "{\"key\": \"val\"} # dictionaries\n",
    "(1, 2, 3)      # tuples\n",
    "None # supress output"
   ]
  },
  {
   "cell_type": "code",
   "execution_count": 169,
   "id": "8be58c7f",
   "metadata": {},
   "outputs": [
    {
     "data": {
      "text/plain": [
       "True"
      ]
     },
     "execution_count": 169,
     "metadata": {},
     "output_type": "execute_result"
    }
   ],
   "source": [
    "\"a\" in {\"a\",\"b\",\"c\"}"
   ]
  },
  {
   "cell_type": "code",
   "execution_count": 170,
   "id": "30c364a5",
   "metadata": {},
   "outputs": [
    {
     "data": {
      "text/plain": [
       "True"
      ]
     },
     "execution_count": 170,
     "metadata": {},
     "output_type": "execute_result"
    }
   ],
   "source": [
    "\"a\" in [\"a\",\"b\",\"c\"]"
   ]
  },
  {
   "cell_type": "code",
   "execution_count": 171,
   "id": "dd4343d2",
   "metadata": {},
   "outputs": [
    {
     "data": {
      "text/plain": [
       "True"
      ]
     },
     "execution_count": 171,
     "metadata": {},
     "output_type": "execute_result"
    }
   ],
   "source": [
    "{\"a\"} < {\"a\",\"b\",\"c\"}"
   ]
  },
  {
   "cell_type": "code",
   "execution_count": 172,
   "id": "d43ff31f",
   "metadata": {},
   "outputs": [
    {
     "name": "stdout",
     "output_type": "stream",
     "text": [
      "[1, 2, 3, 5]\n"
     ]
    }
   ],
   "source": [
    "aq = [1,2,3]\n",
    "aq.append(5)\n",
    "print(aq)"
   ]
  },
  {
   "cell_type": "code",
   "execution_count": 173,
   "id": "5cc6c9f9",
   "metadata": {},
   "outputs": [
    {
     "name": "stdout",
     "output_type": "stream",
     "text": [
      "{1, 2, 3, 5}\n"
     ]
    }
   ],
   "source": [
    "aw = {1,2,3}\n",
    "aw.add(5)\n",
    "print(aw)"
   ]
  },
  {
   "cell_type": "code",
   "execution_count": 174,
   "id": "96c9cf01",
   "metadata": {},
   "outputs": [
    {
     "name": "stdout",
     "output_type": "stream",
     "text": [
      "1\n",
      "b\n",
      "3\n",
      "z\n"
     ]
    }
   ],
   "source": [
    "for item in {1, 'z', 3, 'b'}:\n",
    "    print(item)\n",
    "# ordering isn't guaranteed\n",
    "# use OrderedSet (http://orderedset.readthedocs.io/en/latest/) if you need ordering"
   ]
  },
  {
   "cell_type": "code",
   "execution_count": 175,
   "id": "196a0e80",
   "metadata": {},
   "outputs": [
    {
     "name": "stdout",
     "output_type": "stream",
     "text": [
      "4 2\n"
     ]
    }
   ],
   "source": [
    "#swapping with 3 variables\n",
    "s1 = 2\n",
    "s2 = 4\n",
    "s3 = s1\n",
    "s1 = s2\n",
    "s2 = s3\n",
    "print(s1, s2)"
   ]
  },
  {
   "cell_type": "code",
   "execution_count": 176,
   "id": "1cd17ded",
   "metadata": {},
   "outputs": [
    {
     "name": "stdout",
     "output_type": "stream",
     "text": [
      "4 2\n"
     ]
    }
   ],
   "source": [
    "#swapping with 2 variables\n",
    "s1 = 2\n",
    "s2 = 4\n",
    "\n",
    "s1,s2 = s2,s1\n",
    "\n",
    "print(s1, s2)"
   ]
  },
  {
   "cell_type": "code",
   "execution_count": 177,
   "id": "37b06c33",
   "metadata": {},
   "outputs": [
    {
     "name": "stdout",
     "output_type": "stream",
     "text": [
      "With this example, one common bug that can occur is when you forget to update value at the beginning of \n",
      "each iteration. This is similar to the previous bug of forgetting to update the index. \n",
      "This is one reason that this loop isn’t considered Pythonic. \n"
     ]
    }
   ],
   "source": [
    "# multiline string\n",
    "ms = \"\"\"With this example, one common bug that can occur is when you forget to update value at the beginning of \n",
    "each iteration. This is similar to the previous bug of forgetting to update the index. \n",
    "This is one reason that this loop isn’t considered Pythonic. \"\"\"\n",
    "print(ms)"
   ]
  },
  {
   "cell_type": "code",
   "execution_count": 178,
   "id": "7beae184",
   "metadata": {},
   "outputs": [
    {
     "data": {
      "text/plain": [
       "11"
      ]
     },
     "execution_count": 178,
     "metadata": {},
     "output_type": "execute_result"
    }
   ],
   "source": [
    "#remove removes any leading, and trailing whitespaces\n",
    "s4 = \" hello world\"\n",
    "len(s4) # 12\n",
    "ws = s4.strip()\n",
    "len(ws)#11"
   ]
  },
  {
   "cell_type": "code",
   "execution_count": 179,
   "id": "33f2bcd0",
   "metadata": {},
   "outputs": [
    {
     "name": "stdout",
     "output_type": "stream",
     "text": [
      "HELLO WORLD\n"
     ]
    }
   ],
   "source": [
    "#change case\n",
    "print(ws.upper())"
   ]
  },
  {
   "cell_type": "code",
   "execution_count": 180,
   "id": "87dd9e99",
   "metadata": {},
   "outputs": [
    {
     "name": "stdout",
     "output_type": "stream",
     "text": [
      " yello world\n"
     ]
    }
   ],
   "source": [
    "#replace string\n",
    "s4 = \" hello world\"\n",
    "print(s4.replace('h','y'))"
   ]
  },
  {
   "cell_type": "code",
   "execution_count": 181,
   "id": "9ee014dc",
   "metadata": {},
   "outputs": [
    {
     "name": "stdout",
     "output_type": "stream",
     "text": [
      "['leading,', 'and', 'trailing', 'whitespaces']\n",
      "['le', 'ding, ', 'nd tr', 'iling whitesp', 'ces']\n"
     ]
    }
   ],
   "source": [
    "#split string\n",
    "sp = \"leading, and trailing whitespaces\"\n",
    "print(sp.split(' '))\n",
    "print(sp.split('a'))"
   ]
  },
  {
   "cell_type": "code",
   "execution_count": 182,
   "id": "09999ea3",
   "metadata": {},
   "outputs": [
    {
     "name": "stdout",
     "output_type": "stream",
     "text": [
      "['apple', 'mango', 'bank']\n",
      "['apple', 5, 'bank', True]\n",
      "apple\n",
      "length is =  4\n",
      "['1st', 5, 'bank', True, 20]\n"
     ]
    }
   ],
   "source": [
    "#list: each entry in the list is called an item. List can be of string, int and a mixture\n",
    "# list is ordered, changeable and duplicate\n",
    "thelist1 = ['apple','mango', 'bank'] \n",
    "print(thelist1)\n",
    "thelist2 = ['apple',5, 'bank', True] \n",
    "print(thelist2)\n",
    "print(thelist2[0])\n",
    "print(\"length is = \", len(thelist2))\n",
    "thelist2[0] = '1st' #changable\n",
    "thelist2.append(20) #changable\n",
    "print(thelist2)"
   ]
  },
  {
   "cell_type": "code",
   "execution_count": 183,
   "id": "aa7fed0a",
   "metadata": {},
   "outputs": [
    {
     "name": "stdout",
     "output_type": "stream",
     "text": [
      "['apple', 'mango', 'bank']\n",
      "('apple', 5, 'bank', True)\n",
      "apple\n",
      "length is =  4\n",
      "('apple', 5, 'bank', True)\n"
     ]
    }
   ],
   "source": [
    "#tuple is ordered, but \"unchangeable\" or \"immutable\", duplicate\n",
    "thetup1 = ('apple','mango', 'bank') \n",
    "print(thelist1)\n",
    "thetup2 = ('apple',5, 'bank', True)\n",
    "print(thetup2)\n",
    "print(thetup2[0])\n",
    "print(\"length is = \", len(thetup2))\n",
    "#thetup2[0] = '1st' #this command will give an error, as tuple is immutable\n",
    "\n",
    "print(thetup2)"
   ]
  },
  {
   "cell_type": "code",
   "execution_count": 184,
   "id": "1e68ed25",
   "metadata": {},
   "outputs": [
    {
     "name": "stdout",
     "output_type": "stream",
     "text": [
      "<class 'list'>\n",
      "<class 'tuple'>\n",
      "<class 'str'>\n",
      "<class 'tuple'>\n"
     ]
    }
   ],
   "source": [
    "#checking datatypes of the given data\n",
    "print(type(thelist1))\n",
    "print(type(thetup1))\n",
    "print(type((\"Hello\")))\n",
    "print(type((\"Hello\",)))"
   ]
  },
  {
   "cell_type": "code",
   "execution_count": 185,
   "id": "2fb45efe",
   "metadata": {},
   "outputs": [
    {
     "name": "stdout",
     "output_type": "stream",
     "text": [
      "{'apple', 'bank', 'mango'}\n",
      "set2 =  {'apple', 'bank', 'mango'}\n",
      "length of set1 =  3\n",
      "length of set2 =  3\n",
      "<class 'set'>\n"
     ]
    }
   ],
   "source": [
    "#set is unordered, unchangeable. Set does not support duplication\n",
    "set1 = {'apple','mango', 'bank'}\n",
    "print(set1)\n",
    "set2 = {'apple','mango', 'bank', 'mango'}\n",
    "# print(set2[0]) # not possible as unordered\n",
    "print(\"set2 = \",set2)\n",
    "print(\"length of set1 = \",len(set1))\n",
    "print(\"length of set2 = \",len(set2))\n",
    "print(type(set1))"
   ]
  },
  {
   "cell_type": "code",
   "execution_count": 190,
   "id": "01daf131",
   "metadata": {},
   "outputs": [
    {
     "name": "stdout",
     "output_type": "stream",
     "text": [
      "{'name': 'Ajmal', 'grade': 'B'}\n",
      "{'name': ['Ahad', 'Ajmal'], 'grade': ['A', 'B']}\n",
      "['A', 'B']\n",
      "['Ahad', 'Ajmal', 'Saif']\n",
      "None\n"
     ]
    }
   ],
   "source": [
    "#dictionary is ordered, changeable, but does not allow duplication\n",
    "#are used to store data with tags -> key:value, \n",
    "dict1 = {'name':'Ahad', 'grade':'A', 'name':'Ajmal', 'grade':'B'}\n",
    "print(dict1) #cannot duplicate\n",
    "dict2 = {'name':['Ahad','Ajmal'] , 'grade':['A','B']}\n",
    "print(dict2)\n",
    "print(dict2['grade'])\n",
    "dict2['name'].append('Saif') #appending data\n",
    "print(dict2['name'])\n",
    "#print(dict2['number']) #will give an error, use get method (or function), see the next line\n",
    "print(dict2.get('number'))"
   ]
  },
  {
   "cell_type": "code",
   "execution_count": 194,
   "id": "56e430a2",
   "metadata": {},
   "outputs": [
    {
     "name": "stdout",
     "output_type": "stream",
     "text": [
      "{'name': 'Awais', 'grade': 'B', 'percentage': 58}\n",
      "Ajmal\n"
     ]
    }
   ],
   "source": [
    "dict1.update({'name':'Awais', 'grade':'B','percentage':58})\n",
    "print(dict1)\n",
    "print(dict2['name'][1]) #accessing a particular entry\n"
   ]
  }
 ],
 "metadata": {
  "kernelspec": {
   "display_name": "Python 3 (ipykernel)",
   "language": "python",
   "name": "python3"
  },
  "language_info": {
   "codemirror_mode": {
    "name": "ipython",
    "version": 3
   },
   "file_extension": ".py",
   "mimetype": "text/x-python",
   "name": "python",
   "nbconvert_exporter": "python",
   "pygments_lexer": "ipython3",
   "version": "3.9.13"
  }
 },
 "nbformat": 4,
 "nbformat_minor": 5
}
